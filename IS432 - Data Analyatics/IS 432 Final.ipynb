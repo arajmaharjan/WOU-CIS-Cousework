{
 "cells": [
  {
   "cell_type": "markdown",
   "id": "62152733",
   "metadata": {},
   "source": [
    "# IS 432 Final Project"
   ]
  },
  {
   "cell_type": "code",
   "execution_count": 1,
   "id": "f956eaee",
   "metadata": {},
   "outputs": [],
   "source": [
    "import itertools\n",
    "import numpy as np\n",
    "import matplotlib.pyplot as plt\n",
    "from matplotlib.ticker import NullFormatter\n",
    "import pandas as pd\n",
    "import numpy as np\n",
    "import matplotlib.ticker as ticker\n",
    "from sklearn import preprocessing\n",
    "from sklearn import linear_model\n",
    "%matplotlib inline"
   ]
  },
  {
   "cell_type": "code",
   "execution_count": 2,
   "id": "fc4b561e",
   "metadata": {},
   "outputs": [
    {
     "data": {
      "text/html": [
       "<div>\n",
       "<style scoped>\n",
       "    .dataframe tbody tr th:only-of-type {\n",
       "        vertical-align: middle;\n",
       "    }\n",
       "\n",
       "    .dataframe tbody tr th {\n",
       "        vertical-align: top;\n",
       "    }\n",
       "\n",
       "    .dataframe thead th {\n",
       "        text-align: right;\n",
       "    }\n",
       "</style>\n",
       "<table border=\"1\" class=\"dataframe\">\n",
       "  <thead>\n",
       "    <tr style=\"text-align: right;\">\n",
       "      <th></th>\n",
       "      <th>age</th>\n",
       "      <th>sex</th>\n",
       "      <th>cp</th>\n",
       "      <th>trestbps</th>\n",
       "      <th>chol</th>\n",
       "      <th>fbs</th>\n",
       "      <th>restecg</th>\n",
       "      <th>thalach</th>\n",
       "      <th>exang</th>\n",
       "      <th>oldpeak</th>\n",
       "      <th>slope</th>\n",
       "      <th>ca</th>\n",
       "      <th>thal</th>\n",
       "      <th>target</th>\n",
       "    </tr>\n",
       "  </thead>\n",
       "  <tbody>\n",
       "    <tr>\n",
       "      <th>0</th>\n",
       "      <td>63</td>\n",
       "      <td>1</td>\n",
       "      <td>3</td>\n",
       "      <td>145</td>\n",
       "      <td>233</td>\n",
       "      <td>1</td>\n",
       "      <td>0</td>\n",
       "      <td>150</td>\n",
       "      <td>0</td>\n",
       "      <td>2.3</td>\n",
       "      <td>0</td>\n",
       "      <td>0</td>\n",
       "      <td>1</td>\n",
       "      <td>1</td>\n",
       "    </tr>\n",
       "    <tr>\n",
       "      <th>1</th>\n",
       "      <td>37</td>\n",
       "      <td>1</td>\n",
       "      <td>2</td>\n",
       "      <td>130</td>\n",
       "      <td>250</td>\n",
       "      <td>0</td>\n",
       "      <td>1</td>\n",
       "      <td>187</td>\n",
       "      <td>0</td>\n",
       "      <td>3.5</td>\n",
       "      <td>0</td>\n",
       "      <td>0</td>\n",
       "      <td>2</td>\n",
       "      <td>1</td>\n",
       "    </tr>\n",
       "    <tr>\n",
       "      <th>2</th>\n",
       "      <td>41</td>\n",
       "      <td>0</td>\n",
       "      <td>1</td>\n",
       "      <td>130</td>\n",
       "      <td>204</td>\n",
       "      <td>0</td>\n",
       "      <td>0</td>\n",
       "      <td>172</td>\n",
       "      <td>0</td>\n",
       "      <td>1.4</td>\n",
       "      <td>2</td>\n",
       "      <td>0</td>\n",
       "      <td>2</td>\n",
       "      <td>1</td>\n",
       "    </tr>\n",
       "    <tr>\n",
       "      <th>3</th>\n",
       "      <td>56</td>\n",
       "      <td>1</td>\n",
       "      <td>1</td>\n",
       "      <td>120</td>\n",
       "      <td>236</td>\n",
       "      <td>0</td>\n",
       "      <td>1</td>\n",
       "      <td>178</td>\n",
       "      <td>0</td>\n",
       "      <td>0.8</td>\n",
       "      <td>2</td>\n",
       "      <td>0</td>\n",
       "      <td>2</td>\n",
       "      <td>1</td>\n",
       "    </tr>\n",
       "    <tr>\n",
       "      <th>4</th>\n",
       "      <td>57</td>\n",
       "      <td>0</td>\n",
       "      <td>0</td>\n",
       "      <td>120</td>\n",
       "      <td>354</td>\n",
       "      <td>0</td>\n",
       "      <td>1</td>\n",
       "      <td>163</td>\n",
       "      <td>1</td>\n",
       "      <td>0.6</td>\n",
       "      <td>2</td>\n",
       "      <td>0</td>\n",
       "      <td>2</td>\n",
       "      <td>1</td>\n",
       "    </tr>\n",
       "    <tr>\n",
       "      <th>...</th>\n",
       "      <td>...</td>\n",
       "      <td>...</td>\n",
       "      <td>...</td>\n",
       "      <td>...</td>\n",
       "      <td>...</td>\n",
       "      <td>...</td>\n",
       "      <td>...</td>\n",
       "      <td>...</td>\n",
       "      <td>...</td>\n",
       "      <td>...</td>\n",
       "      <td>...</td>\n",
       "      <td>...</td>\n",
       "      <td>...</td>\n",
       "      <td>...</td>\n",
       "    </tr>\n",
       "    <tr>\n",
       "      <th>298</th>\n",
       "      <td>57</td>\n",
       "      <td>0</td>\n",
       "      <td>0</td>\n",
       "      <td>140</td>\n",
       "      <td>241</td>\n",
       "      <td>0</td>\n",
       "      <td>1</td>\n",
       "      <td>123</td>\n",
       "      <td>1</td>\n",
       "      <td>0.2</td>\n",
       "      <td>1</td>\n",
       "      <td>0</td>\n",
       "      <td>3</td>\n",
       "      <td>0</td>\n",
       "    </tr>\n",
       "    <tr>\n",
       "      <th>299</th>\n",
       "      <td>45</td>\n",
       "      <td>1</td>\n",
       "      <td>3</td>\n",
       "      <td>110</td>\n",
       "      <td>264</td>\n",
       "      <td>0</td>\n",
       "      <td>1</td>\n",
       "      <td>132</td>\n",
       "      <td>0</td>\n",
       "      <td>1.2</td>\n",
       "      <td>1</td>\n",
       "      <td>0</td>\n",
       "      <td>3</td>\n",
       "      <td>0</td>\n",
       "    </tr>\n",
       "    <tr>\n",
       "      <th>300</th>\n",
       "      <td>68</td>\n",
       "      <td>1</td>\n",
       "      <td>0</td>\n",
       "      <td>144</td>\n",
       "      <td>193</td>\n",
       "      <td>1</td>\n",
       "      <td>1</td>\n",
       "      <td>141</td>\n",
       "      <td>0</td>\n",
       "      <td>3.4</td>\n",
       "      <td>1</td>\n",
       "      <td>2</td>\n",
       "      <td>3</td>\n",
       "      <td>0</td>\n",
       "    </tr>\n",
       "    <tr>\n",
       "      <th>301</th>\n",
       "      <td>57</td>\n",
       "      <td>1</td>\n",
       "      <td>0</td>\n",
       "      <td>130</td>\n",
       "      <td>131</td>\n",
       "      <td>0</td>\n",
       "      <td>1</td>\n",
       "      <td>115</td>\n",
       "      <td>1</td>\n",
       "      <td>1.2</td>\n",
       "      <td>1</td>\n",
       "      <td>1</td>\n",
       "      <td>3</td>\n",
       "      <td>0</td>\n",
       "    </tr>\n",
       "    <tr>\n",
       "      <th>302</th>\n",
       "      <td>57</td>\n",
       "      <td>0</td>\n",
       "      <td>1</td>\n",
       "      <td>130</td>\n",
       "      <td>236</td>\n",
       "      <td>0</td>\n",
       "      <td>0</td>\n",
       "      <td>174</td>\n",
       "      <td>0</td>\n",
       "      <td>0.0</td>\n",
       "      <td>1</td>\n",
       "      <td>1</td>\n",
       "      <td>2</td>\n",
       "      <td>0</td>\n",
       "    </tr>\n",
       "  </tbody>\n",
       "</table>\n",
       "<p>303 rows × 14 columns</p>\n",
       "</div>"
      ],
      "text/plain": [
       "     age  sex  cp  trestbps  chol  fbs  restecg  thalach  exang  oldpeak  \\\n",
       "0     63    1   3       145   233    1        0      150      0      2.3   \n",
       "1     37    1   2       130   250    0        1      187      0      3.5   \n",
       "2     41    0   1       130   204    0        0      172      0      1.4   \n",
       "3     56    1   1       120   236    0        1      178      0      0.8   \n",
       "4     57    0   0       120   354    0        1      163      1      0.6   \n",
       "..   ...  ...  ..       ...   ...  ...      ...      ...    ...      ...   \n",
       "298   57    0   0       140   241    0        1      123      1      0.2   \n",
       "299   45    1   3       110   264    0        1      132      0      1.2   \n",
       "300   68    1   0       144   193    1        1      141      0      3.4   \n",
       "301   57    1   0       130   131    0        1      115      1      1.2   \n",
       "302   57    0   1       130   236    0        0      174      0      0.0   \n",
       "\n",
       "     slope  ca  thal  target  \n",
       "0        0   0     1       1  \n",
       "1        0   0     2       1  \n",
       "2        2   0     2       1  \n",
       "3        2   0     2       1  \n",
       "4        2   0     2       1  \n",
       "..     ...  ..   ...     ...  \n",
       "298      1   0     3       0  \n",
       "299      1   0     3       0  \n",
       "300      1   2     3       0  \n",
       "301      1   1     3       0  \n",
       "302      1   1     2       0  \n",
       "\n",
       "[303 rows x 14 columns]"
      ]
     },
     "execution_count": 2,
     "metadata": {},
     "output_type": "execute_result"
    }
   ],
   "source": [
    "df=pd.read_csv(\"heart.csv\")\n",
    "df"
   ]
  },
  {
   "cell_type": "markdown",
   "id": "c7596050",
   "metadata": {},
   "source": [
    "# 1. Simple Linear Regression: "
   ]
  },
  {
   "cell_type": "code",
   "execution_count": 3,
   "id": "3304350a",
   "metadata": {},
   "outputs": [],
   "source": [
    "msk = np.random.rand(len(df)) < 0.75\n",
    "train = df[msk]\n",
    "test = df[~msk]"
   ]
  },
  {
   "cell_type": "code",
   "execution_count": 4,
   "id": "3bb4048c",
   "metadata": {},
   "outputs": [
    {
     "data": {
      "text/plain": [
       "<function matplotlib.pyplot.show(close=None, block=None)>"
      ]
     },
     "execution_count": 4,
     "metadata": {},
     "output_type": "execute_result"
    },
    {
     "data": {
      "image/png": "[encoded data removed]",
      "text/plain": [
       "<Figure size 432x288 with 1 Axes>"
      ]
     },
     "metadata": {
      "needs_background": "light"
     },
     "output_type": "display_data"
    }
   ],
   "source": [
    "x=df[[\"sex\"]]\n",
    "y=df[[\"chol\"]]\n",
    "plt.scatter(x,y, color=\"red\")\n",
    "plt.xlabel(\"Sex\")\n",
    "plt.ylabel(\"Cholestrol\")\n",
    "plt.show"
   ]
  },
  {
   "cell_type": "code",
   "execution_count": 5,
   "id": "0bb7c9c5",
   "metadata": {},
   "outputs": [
    {
     "name": "stdout",
     "output_type": "stream",
     "text": [
      "Coefficients:  [[-20.90955285]]\n",
      "Intercept:  [258.95833333]\n"
     ]
    }
   ],
   "source": [
    "simp = linear_model.LinearRegression()\n",
    "train_x = np.asanyarray(train[['sex']])\n",
    "train_y = np.asanyarray(train[['chol']])\n",
    "simp.fit (train_x, train_y)\n",
    "print ('Coefficients: ', simp.coef_)\n",
    "print ('Intercept: ',simp.intercept_)"
   ]
  },
  {
   "cell_type": "markdown",
   "id": "0625f596",
   "metadata": {},
   "source": [
    " y = (-30.21)x + 265.42 we have taken age from index 0 i.e sex=1 then y = (-30.21)x1 + 265.42 = 235.21"
   ]
  },
  {
   "cell_type": "markdown",
   "id": "e3d819ad",
   "metadata": {},
   "source": [
    "We have examined the y value, which is the cholestrol value for row 0 and which was projected to be higher than it was initially. We have also reviewed the x value, which is the cholesterol value for row 0."
   ]
  },
  {
   "cell_type": "markdown",
   "id": "c7aa627e",
   "metadata": {},
   "source": [
    "It projected data from the aforementioned model of test data, which was the cholestrol value from row 0 and which was anticipated to be bigger than it was initially predicted to be. The actual data was 233, whereas the predicted data was 235.21, which was not a significant difference, but was somewhat higher than the actual data. "
   ]
  },
  {
   "cell_type": "markdown",
   "id": "da460f90",
   "metadata": {},
   "source": [
    "# 2. Multiple Regression: "
   ]
  },
  {
   "cell_type": "code",
   "execution_count": 6,
   "id": "4d0fd61d",
   "metadata": {},
   "outputs": [
    {
     "name": "stdout",
     "output_type": "stream",
     "text": [
      "Coefficients:  [[  0.93427792 -18.98449721  -3.74446889   0.0736566 ]]\n",
      "Intercept:  [201.16028112]\n"
     ]
    }
   ],
   "source": [
    "multi = linear_model.LinearRegression()\n",
    "x = np.asanyarray(train[['age','sex','cp','trestbps']])\n",
    "y = np.asanyarray(train[['chol']])\n",
    "multi.fit (x, y)\n",
    "print ('Coefficients: ', multi.coef_)\n",
    "print ('Intercept: ', multi.intercept_)"
   ]
  },
  {
   "cell_type": "markdown",
   "id": "57879d55",
   "metadata": {},
   "source": [
    " y = 1.005x + (-20.69)z + (-3.9)w + (0.08)a + 197.9 .For row 0 we will get y=  1.005*63 + (-20.69)*1 + (-3.9)*3 + (0.08)*145 + 197.9 = 240.425"
   ]
  },
  {
   "cell_type": "markdown",
   "id": "cd06fb71",
   "metadata": {},
   "source": [
    "We have examined the y value, which is the cholestrol value for row 0 and which was projected to be higher than it was initially. "
   ]
  },
  {
   "cell_type": "markdown",
   "id": "f77eead3",
   "metadata": {},
   "source": [
    "It projected data from the aforementioned model of test data, which was the cholestrol value from row 0 and which was anticipated to be bigger than it was initially predicted to be. The actual data was 233, whereas the predicted data was 240.425, which was a significant difference thus much higher than the actual data. Compared to predicated data of simple regression , multiple regression data was much greater. Thus i feel like simple regression model seems to best fit data. "
   ]
  },
  {
   "cell_type": "markdown",
   "id": "23cd35bc",
   "metadata": {},
   "source": [
    "# 3. K-nearest neighbors"
   ]
  },
  {
   "cell_type": "code",
   "execution_count": 7,
   "id": "122bb375",
   "metadata": {},
   "outputs": [
    {
     "data": {
      "text/plain": [
       "array([[63. ,  1. ,  3. ,  2.3],\n",
       "       [37. ,  1. ,  2. ,  3.5],\n",
       "       [41. ,  0. ,  1. ,  1.4],\n",
       "       [56. ,  1. ,  1. ,  0.8],\n",
       "       [57. ,  0. ,  0. ,  0.6]])"
      ]
     },
     "execution_count": 7,
     "metadata": {},
     "output_type": "execute_result"
    }
   ],
   "source": [
    "X = df[['age','sex','cp','oldpeak']] .values \n",
    "X[0:5]"
   ]
  },
  {
   "cell_type": "code",
   "execution_count": 8,
   "id": "7a356c22",
   "metadata": {},
   "outputs": [
    {
     "data": {
      "text/plain": [
       "array([233, 250, 204, 236, 354])"
      ]
     },
     "execution_count": 8,
     "metadata": {},
     "output_type": "execute_result"
    }
   ],
   "source": [
    "y = df['chol'].values\n",
    "y[0:5]"
   ]
  },
  {
   "cell_type": "code",
   "execution_count": 9,
   "id": "e4df2fac",
   "metadata": {},
   "outputs": [
    {
     "data": {
      "text/plain": [
       "array([[ 0.9521966 ,  0.68100522,  1.97312292,  1.08733806],\n",
       "       [-1.91531289,  0.68100522,  1.00257707,  2.12257273],\n",
       "       [-1.47415758, -1.46841752,  0.03203122,  0.31091206],\n",
       "       [ 0.18017482,  0.68100522,  0.03203122, -0.20670527],\n",
       "       [ 0.29046364, -1.46841752, -0.93851463, -0.37924438]])"
      ]
     },
     "execution_count": 9,
     "metadata": {},
     "output_type": "execute_result"
    }
   ],
   "source": [
    "X = preprocessing.StandardScaler().fit(X).transform(X.astype(float))\n",
    "X[0:5]"
   ]
  },
  {
   "cell_type": "code",
   "execution_count": 10,
   "id": "037727fa",
   "metadata": {},
   "outputs": [
    {
     "name": "stdout",
     "output_type": "stream",
     "text": [
      "Train set: (242, 4) (242,)\n",
      "Test set: (61, 4) (61,)\n"
     ]
    }
   ],
   "source": [
    "from sklearn.model_selection import train_test_split\n",
    "X_train, X_test, y_train, y_test = train_test_split( X, y, test_size=0.2, random_state=4)\n",
    "print ('Train set:', X_train.shape,  y_train.shape)\n",
    "print ('Test set:', X_test.shape,  y_test.shape)"
   ]
  },
  {
   "cell_type": "code",
   "execution_count": 11,
   "id": "30b30d13",
   "metadata": {},
   "outputs": [
    {
     "data": {
      "text/plain": [
       "KNeighborsClassifier(n_neighbors=3)"
      ]
     },
     "execution_count": 11,
     "metadata": {},
     "output_type": "execute_result"
    }
   ],
   "source": [
    "from sklearn.neighbors import KNeighborsClassifier\n",
    "k = 3\n",
    "#Train Model and Predict\n",
    "neigh = KNeighborsClassifier(n_neighbors = k).fit(X_train,y_train)\n",
    "neigh"
   ]
  },
  {
   "cell_type": "code",
   "execution_count": 12,
   "id": "cdc95032",
   "metadata": {},
   "outputs": [
    {
     "data": {
      "text/plain": [
       "array([197, 269, 303, 213, 213])"
      ]
     },
     "execution_count": 12,
     "metadata": {},
     "output_type": "execute_result"
    }
   ],
   "source": [
    "yhat = neigh.predict(X_test)\n",
    "yhat[0:5]"
   ]
  },
  {
   "cell_type": "code",
   "execution_count": 13,
   "id": "484802c7",
   "metadata": {
    "scrolled": true
   },
   "outputs": [
    {
     "name": "stdout",
     "output_type": "stream",
     "text": [
      "Train set Accuracy:  0.359504132231405\n",
      "Test set Accuracy:  0.0\n"
     ]
    }
   ],
   "source": [
    "from sklearn import metrics\n",
    "print(\"Train set Accuracy: \", metrics.accuracy_score(y_train, neigh.predict(X_train)))\n",
    "print(\"Test set Accuracy: \", metrics.accuracy_score(y_test, yhat))"
   ]
  },
  {
   "cell_type": "code",
   "execution_count": 14,
   "id": "b754e34e",
   "metadata": {},
   "outputs": [
    {
     "data": {
      "text/plain": [
       "array([0.        , 0.        , 0.        , 0.        , 0.        ,\n",
       "       0.        , 0.        , 0.        , 0.01639344])"
      ]
     },
     "execution_count": 14,
     "metadata": {},
     "output_type": "execute_result"
    }
   ],
   "source": [
    "Ks = 10\n",
    "mean_acc = np.zeros((Ks-1))\n",
    "std_acc = np.zeros((Ks-1))\n",
    "ConfustionMx = [];\n",
    "for n in range(1,Ks):\n",
    "    #Train Model and Predict\n",
    "    neigh = KNeighborsClassifier(n_neighbors = n).fit(X_train,y_train)\n",
    "    yhat=neigh.predict(X_test)\n",
    "    mean_acc[n-1] = metrics.accuracy_score(y_test, yhat)\n",
    "    std_acc[n-1]=np.std(yhat==y_test)/np.sqrt(yhat.shape[0])\n",
    "mean_acc"
   ]
  },
  {
   "cell_type": "code",
   "execution_count": 15,
   "id": "24ce2c63",
   "metadata": {},
   "outputs": [
    {
     "data": {
      "image/png": "[encoded data removed]",
      "text/plain": [
       "<Figure size 432x288 with 1 Axes>"
      ]
     },
     "metadata": {
      "needs_background": "light"
     },
     "output_type": "display_data"
    }
   ],
   "source": [
    "plt.plot(range(1,Ks),mean_acc,'g')\n",
    "plt.fill_between(range(1,Ks),mean_acc - 1 * std_acc,mean_acc + 1 * std_acc, alpha=0.10)\n",
    "plt.legend(('Accuracy ', '+/- 3xstd'))\n",
    "plt.ylabel('Accuracy ')\n",
    "plt.xlabel('Number of Nabors (K)')\n",
    "plt.tight_layout()\n",
    "plt.show()"
   ]
  },
  {
   "cell_type": "markdown",
   "id": "e25d57d1",
   "metadata": {},
   "source": [
    "According to the graph, the value of k is more accurate when the number is nine. Using the value of k as 9, we get an accuracy of 0.020. I would pick the vaule of k = 9 since I believe this would be the most accurate representation of the vaule."
   ]
  },
  {
   "cell_type": "markdown",
   "id": "1fef856e",
   "metadata": {},
   "source": [
    "# 4. Reflection on the class"
   ]
  },
  {
   "cell_type": "markdown",
   "id": "46d2e232",
   "metadata": {},
   "source": [
    "<h2>a. Explain in your own words why you think data analytics is important in the 21st century.<h2/>\n",
    "    <h3> Through data analysis, we may predict future events and define the characteristics of a data set while also summarizing the information contained within it. When data analysis is combined with visual analysis, we are able to create a complete framework of information. We are able to foresee the future based on the data we have collected and analyzed. When making predictions about the future, it takes use of descriptive analysis. Through technical improvements in analysis and machine learning, we are able to get insight into the future and make predictions about it. Enterprises must be able to think critically about the nature of data and comprehend the analysis in its entirety. Finding anomalous patterns in the data is essential for identifying problems with our model's performance, and we must look for these patterns in order to identify problems<h3/>"
   ]
  },
  {
   "cell_type": "markdown",
   "id": "a1135029",
   "metadata": {},
   "source": [
    "<h2>b. In your opinion, what was the most important thing you learned this term. Why?  Will you be able to use it in the future?<h2/>\n",
    "    <h3>The most significant thing I learnt this term and will be able to use it in the future, in my view, are problem-solving abilities, which are in high demand due to the increasing amount of data available. At its core, analytics is about finding solutions to problems. The difficulties, however, are on a far wider scale than most of us are used to, affecting whole organizations, as well as the employees and consumers that they provide. Not only is it beneficial in the professional sphere, but it is also beneficial in daily life. The capacity to think critically and approach issues in the proper manner is a talent that can be used at any time.<h3/>"
   ]
  },
  {
   "cell_type": "markdown",
   "id": "0175ef93",
   "metadata": {},
   "source": [
    "<h2>c. For your learning style, what was most and least instructrutive about this class.  In other words, what helped you learn the most and what helped you learn the least. <h2>\n",
    "    <h3> In my opinion, this was an extremely interesting class, but because of my unique situation of being on the other side of the world, which prevented me from participating in in-person classes, I was unable to connect with and contribute to the class as much as I would have liked. However, because of the well-described nature of the modules every week, I still learn significantly more than I did before taking the class.<h3/>"
   ]
  },
  {
   "cell_type": "markdown",
   "id": "d01b4d1f",
   "metadata": {},
   "source": [
    "<h2>d. What would you have wanted to learn more about?  Why would you want to learn more about that?  How could it help you in your future. <h2/>\n",
    "    <h3> In addition to all we've learned in this class. I would have liked to have learnt more about the day-to-day working environment in the data analytics industry. I would have liked to have seen a real-life project on data analytics and how different tools and techniques work in practice and in opposition to one another. What roles may the skills learned in this class be utilized to fill, and how could the real-world applications of these philosophies be employed? In the end, there is little question that data analytics will play a significant role in the operations of businesses in the future. Understanding real-world project environments might have put me one step ahead of the competition. Learning analytics today gives a road to success, as well as transferable abilities that can be used in any aspect of life. <h3/>"
   ]
  },
  {
   "cell_type": "markdown",
   "id": "1083eeac",
   "metadata": {},
   "source": [
    "# 5. Panel Discussion "
   ]
  },
  {
   "cell_type": "markdown",
   "id": "637000d0",
   "metadata": {},
   "source": [
    "<h2> a. Give a general summary of the panel discussion. <h2/>\n",
    "    <h3> A panel discussion was held on December 3rd, 2021, during the 9th week of our winter semester, with three sets of participants. The members of the panel who are specialists in the area of data. Select students who pose questions to the panelists in advance. In addition, the moderator who started the debate, asked questions, synthesized, and summarized the major elements of the topic was our class instructor.Members of the panel had backgrounds in biology , psychology and worked with cell behavior, cell functions, and data processing. With the assessment stratification program and childcare analytics, they worked by running datasets to surveys, statistical models. They utilized Python, SaaS, SQL, and R programming languages and spent relatively little time on data analytics, but a lot of effort cleaning up the dat  onversion. <h3/>\n"
   ]
  },
  {
   "cell_type": "markdown",
   "id": "eabf3f7c",
   "metadata": {},
   "source": [
    "<h2>b. What question did you prepare in advance?  What was the answer to yourquestion?<h2/>\n",
    "    <h3>Some of the inquiries I had were, for example, what type of working environment they had as a data analyst in their professional role. I was curious in how the hiring process for a data analyst works, as well as how frequently students use what they've learned in class as they prepare for this role. I received answers to all of my queries as a result of this panel discussion. I learned that data analysts spend a disproportionate amount of time cleaning data rather than employing data analytics technologies in their professional lives. People do utilize programming language for analysis, as shown by their analysis and demonstration. Data conversion takes more time, whereas simple analysis such as percentages and standard deviations were common in this working environment, whereas the everyday environment consists of meetings, emails, and team stand ups, and the tools we learned in class are only done upon request or at the end of a report using the dashboard, respectively. Also discovered that the hiring process may be done in a variety of ways, since some were contractors and others were full-time employees, and that the kind of data they were working with had a significant impact on the process.<h3/>"
   ]
  },
  {
   "cell_type": "markdown",
   "id": "fc97c38d",
   "metadata": {},
   "source": [
    "<h2> c. What was the most valuable thing you learned from the panelist? <h2/>\n",
    "    <h3>Some of the most essential things I learned from the panelists were that no matter what your educational background is, you can educate yourself with various skills in this data analytics field and continue your career if you can critically think. Using data to discover answers to your concerns requires first figuring out what questions to ask in the first place, which may be a difficult task on sometimes. To be a successful analyst, you must be able to think critically. An analyst's job is to discover and synthesize connections that are not always immediately obvious. While this talent is intrinsic to some level, there are a number of strategies you may use to assist develop your critical thinking abilities in order to succeed in life. For example, asking oneself fundamental questions regarding the problem at hand might help you keep grounded while looking for a solution. It is also crucial to remember to think for yourself rather than depending on what is already known to be true. These abilities, which include not just technical abilities but also the ability to communicate the results of your analytical conclusion, are quite valuable. Most people don't care how the work is done; they're more concerned with getting a basic outcome that they can comprehend.<h3/>"
   ]
  },
  {
   "cell_type": "code",
   "execution_count": null,
   "id": "ef3c4408",
   "metadata": {},
   "outputs": [],
   "source": []
  }
 ],
 "metadata": {
  "kernelspec": {
   "display_name": "Python 3",
   "language": "python",
   "name": "python3"
  },
  "language_info": {
   "codemirror_mode": {
    "name": "ipython",
    "version": 3
   },
   "file_extension": ".py",
   "mimetype": "text/x-python",
   "name": "python",
   "nbconvert_exporter": "python",
   "pygments_lexer": "ipython3",
   "version": "3.8.8"
  }
 },
 "nbformat": 4,
 "nbformat_minor": 5
}
