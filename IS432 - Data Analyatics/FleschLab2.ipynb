{
 "cells": [
  {
   "cell_type": "code",
   "execution_count": 1,
   "id": "7cc0817f",
   "metadata": {},
   "outputs": [
    {
     "data": {
      "text/html": [
       "<div>\n",
       "<style scoped>\n",
       "    .dataframe tbody tr th:only-of-type {\n",
       "        vertical-align: middle;\n",
       "    }\n",
       "\n",
       "    .dataframe tbody tr th {\n",
       "        vertical-align: top;\n",
       "    }\n",
       "\n",
       "    .dataframe thead th {\n",
       "        text-align: right;\n",
       "    }\n",
       "</style>\n",
       "<table border=\"1\" class=\"dataframe\">\n",
       "  <thead>\n",
       "    <tr style=\"text-align: right;\">\n",
       "      <th></th>\n",
       "      <th>age</th>\n",
       "      <th>workclass</th>\n",
       "      <th>demogweight</th>\n",
       "      <th>education</th>\n",
       "      <th>education-num</th>\n",
       "      <th>marital-status</th>\n",
       "      <th>occupation</th>\n",
       "      <th>relationship</th>\n",
       "      <th>race</th>\n",
       "      <th>sex</th>\n",
       "      <th>capital-gain</th>\n",
       "      <th>capital-loss</th>\n",
       "      <th>hours-per-week</th>\n",
       "      <th>native-country</th>\n",
       "      <th>income</th>\n",
       "    </tr>\n",
       "  </thead>\n",
       "  <tbody>\n",
       "    <tr>\n",
       "      <th>0</th>\n",
       "      <td>39</td>\n",
       "      <td>State-gov</td>\n",
       "      <td>77516</td>\n",
       "      <td>Bachelors</td>\n",
       "      <td>13</td>\n",
       "      <td>Never-married</td>\n",
       "      <td>Adm-clerical</td>\n",
       "      <td>Not-in-family</td>\n",
       "      <td>White</td>\n",
       "      <td>Male</td>\n",
       "      <td>2174</td>\n",
       "      <td>0</td>\n",
       "      <td>40</td>\n",
       "      <td>United-States</td>\n",
       "      <td>&lt;=50K.</td>\n",
       "    </tr>\n",
       "    <tr>\n",
       "      <th>1</th>\n",
       "      <td>50</td>\n",
       "      <td>Self-emp-not-inc</td>\n",
       "      <td>83311</td>\n",
       "      <td>Bachelors</td>\n",
       "      <td>13</td>\n",
       "      <td>Married-civ-spouse</td>\n",
       "      <td>Exec-managerial</td>\n",
       "      <td>Husband</td>\n",
       "      <td>White</td>\n",
       "      <td>Male</td>\n",
       "      <td>0</td>\n",
       "      <td>0</td>\n",
       "      <td>13</td>\n",
       "      <td>United-States</td>\n",
       "      <td>&lt;=50K.</td>\n",
       "    </tr>\n",
       "    <tr>\n",
       "      <th>2</th>\n",
       "      <td>38</td>\n",
       "      <td>Private</td>\n",
       "      <td>215646</td>\n",
       "      <td>HS-grad</td>\n",
       "      <td>9</td>\n",
       "      <td>Divorced</td>\n",
       "      <td>Handlers-cleaners</td>\n",
       "      <td>Not-in-family</td>\n",
       "      <td>White</td>\n",
       "      <td>Male</td>\n",
       "      <td>0</td>\n",
       "      <td>0</td>\n",
       "      <td>40</td>\n",
       "      <td>United-States</td>\n",
       "      <td>&lt;=50K.</td>\n",
       "    </tr>\n",
       "    <tr>\n",
       "      <th>3</th>\n",
       "      <td>53</td>\n",
       "      <td>Private</td>\n",
       "      <td>234721</td>\n",
       "      <td>11th</td>\n",
       "      <td>7</td>\n",
       "      <td>Married-civ-spouse</td>\n",
       "      <td>Handlers-cleaners</td>\n",
       "      <td>Husband</td>\n",
       "      <td>Black</td>\n",
       "      <td>Male</td>\n",
       "      <td>0</td>\n",
       "      <td>0</td>\n",
       "      <td>40</td>\n",
       "      <td>United-States</td>\n",
       "      <td>&lt;=50K.</td>\n",
       "    </tr>\n",
       "    <tr>\n",
       "      <th>4</th>\n",
       "      <td>28</td>\n",
       "      <td>Private</td>\n",
       "      <td>338409</td>\n",
       "      <td>Bachelors</td>\n",
       "      <td>13</td>\n",
       "      <td>Married-civ-spouse</td>\n",
       "      <td>Prof-specialty</td>\n",
       "      <td>Wife</td>\n",
       "      <td>Black</td>\n",
       "      <td>Female</td>\n",
       "      <td>0</td>\n",
       "      <td>0</td>\n",
       "      <td>40</td>\n",
       "      <td>Cuba</td>\n",
       "      <td>&lt;=50K.</td>\n",
       "    </tr>\n",
       "  </tbody>\n",
       "</table>\n",
       "</div>"
      ],
      "text/plain": [
       "   age         workclass  demogweight  education  education-num  \\\n",
       "0   39         State-gov        77516  Bachelors             13   \n",
       "1   50  Self-emp-not-inc        83311  Bachelors             13   \n",
       "2   38           Private       215646    HS-grad              9   \n",
       "3   53           Private       234721       11th              7   \n",
       "4   28           Private       338409  Bachelors             13   \n",
       "\n",
       "       marital-status         occupation   relationship   race     sex  \\\n",
       "0       Never-married       Adm-clerical  Not-in-family  White    Male   \n",
       "1  Married-civ-spouse    Exec-managerial        Husband  White    Male   \n",
       "2            Divorced  Handlers-cleaners  Not-in-family  White    Male   \n",
       "3  Married-civ-spouse  Handlers-cleaners        Husband  Black    Male   \n",
       "4  Married-civ-spouse     Prof-specialty           Wife  Black  Female   \n",
       "\n",
       "   capital-gain  capital-loss  hours-per-week native-country  income  \n",
       "0          2174             0              40  United-States  <=50K.  \n",
       "1             0             0              13  United-States  <=50K.  \n",
       "2             0             0              40  United-States  <=50K.  \n",
       "3             0             0              40  United-States  <=50K.  \n",
       "4             0             0              40           Cuba  <=50K.  "
      ]
     },
     "execution_count": 1,
     "metadata": {},
     "output_type": "execute_result"
    }
   ],
   "source": [
    "import pandas as pd\n",
    "df = pd.read_csv(\"Adult.csv\")\n",
    "df.head()"
   ]
  },
  {
   "cell_type": "code",
   "execution_count": 2,
   "id": "a4d3e637",
   "metadata": {},
   "outputs": [
    {
     "data": {
      "text/html": [
       "<div>\n",
       "<style scoped>\n",
       "    .dataframe tbody tr th:only-of-type {\n",
       "        vertical-align: middle;\n",
       "    }\n",
       "\n",
       "    .dataframe tbody tr th {\n",
       "        vertical-align: top;\n",
       "    }\n",
       "\n",
       "    .dataframe thead th {\n",
       "        text-align: right;\n",
       "    }\n",
       "</style>\n",
       "<table border=\"1\" class=\"dataframe\">\n",
       "  <thead>\n",
       "    <tr style=\"text-align: right;\">\n",
       "      <th></th>\n",
       "      <th>age</th>\n",
       "      <th>workclass</th>\n",
       "      <th>demogweight</th>\n",
       "      <th>education</th>\n",
       "      <th>educationnum</th>\n",
       "      <th>maritalstatus</th>\n",
       "      <th>occupation</th>\n",
       "      <th>relationship</th>\n",
       "      <th>race</th>\n",
       "      <th>sex</th>\n",
       "      <th>capitalgain</th>\n",
       "      <th>capitalloss</th>\n",
       "      <th>hoursperweek</th>\n",
       "      <th>nativecountry</th>\n",
       "      <th>income</th>\n",
       "    </tr>\n",
       "  </thead>\n",
       "  <tbody>\n",
       "    <tr>\n",
       "      <th>0</th>\n",
       "      <td>39</td>\n",
       "      <td>State-gov</td>\n",
       "      <td>77516</td>\n",
       "      <td>Bachelors</td>\n",
       "      <td>13</td>\n",
       "      <td>Never-married</td>\n",
       "      <td>Adm-clerical</td>\n",
       "      <td>Not-in-family</td>\n",
       "      <td>White</td>\n",
       "      <td>Male</td>\n",
       "      <td>2174</td>\n",
       "      <td>0</td>\n",
       "      <td>40</td>\n",
       "      <td>United-States</td>\n",
       "      <td>&lt;=50K.</td>\n",
       "    </tr>\n",
       "    <tr>\n",
       "      <th>1</th>\n",
       "      <td>50</td>\n",
       "      <td>Self-emp-not-inc</td>\n",
       "      <td>83311</td>\n",
       "      <td>Bachelors</td>\n",
       "      <td>13</td>\n",
       "      <td>Married-civ-spouse</td>\n",
       "      <td>Exec-managerial</td>\n",
       "      <td>Husband</td>\n",
       "      <td>White</td>\n",
       "      <td>Male</td>\n",
       "      <td>0</td>\n",
       "      <td>0</td>\n",
       "      <td>13</td>\n",
       "      <td>United-States</td>\n",
       "      <td>&lt;=50K.</td>\n",
       "    </tr>\n",
       "    <tr>\n",
       "      <th>2</th>\n",
       "      <td>38</td>\n",
       "      <td>Private</td>\n",
       "      <td>215646</td>\n",
       "      <td>HS-grad</td>\n",
       "      <td>9</td>\n",
       "      <td>Divorced</td>\n",
       "      <td>Handlers-cleaners</td>\n",
       "      <td>Not-in-family</td>\n",
       "      <td>White</td>\n",
       "      <td>Male</td>\n",
       "      <td>0</td>\n",
       "      <td>0</td>\n",
       "      <td>40</td>\n",
       "      <td>United-States</td>\n",
       "      <td>&lt;=50K.</td>\n",
       "    </tr>\n",
       "    <tr>\n",
       "      <th>3</th>\n",
       "      <td>53</td>\n",
       "      <td>Private</td>\n",
       "      <td>234721</td>\n",
       "      <td>11th</td>\n",
       "      <td>7</td>\n",
       "      <td>Married-civ-spouse</td>\n",
       "      <td>Handlers-cleaners</td>\n",
       "      <td>Husband</td>\n",
       "      <td>Black</td>\n",
       "      <td>Male</td>\n",
       "      <td>0</td>\n",
       "      <td>0</td>\n",
       "      <td>40</td>\n",
       "      <td>United-States</td>\n",
       "      <td>&lt;=50K.</td>\n",
       "    </tr>\n",
       "    <tr>\n",
       "      <th>4</th>\n",
       "      <td>28</td>\n",
       "      <td>Private</td>\n",
       "      <td>338409</td>\n",
       "      <td>Bachelors</td>\n",
       "      <td>13</td>\n",
       "      <td>Married-civ-spouse</td>\n",
       "      <td>Prof-specialty</td>\n",
       "      <td>Wife</td>\n",
       "      <td>Black</td>\n",
       "      <td>Female</td>\n",
       "      <td>0</td>\n",
       "      <td>0</td>\n",
       "      <td>40</td>\n",
       "      <td>Cuba</td>\n",
       "      <td>&lt;=50K.</td>\n",
       "    </tr>\n",
       "  </tbody>\n",
       "</table>\n",
       "</div>"
      ],
      "text/plain": [
       "   age         workclass  demogweight  education  educationnum  \\\n",
       "0   39         State-gov        77516  Bachelors            13   \n",
       "1   50  Self-emp-not-inc        83311  Bachelors            13   \n",
       "2   38           Private       215646    HS-grad             9   \n",
       "3   53           Private       234721       11th             7   \n",
       "4   28           Private       338409  Bachelors            13   \n",
       "\n",
       "        maritalstatus         occupation   relationship   race     sex  \\\n",
       "0       Never-married       Adm-clerical  Not-in-family  White    Male   \n",
       "1  Married-civ-spouse    Exec-managerial        Husband  White    Male   \n",
       "2            Divorced  Handlers-cleaners  Not-in-family  White    Male   \n",
       "3  Married-civ-spouse  Handlers-cleaners        Husband  Black    Male   \n",
       "4  Married-civ-spouse     Prof-specialty           Wife  Black  Female   \n",
       "\n",
       "   capitalgain  capitalloss  hoursperweek  nativecountry  income  \n",
       "0         2174            0            40  United-States  <=50K.  \n",
       "1            0            0            13  United-States  <=50K.  \n",
       "2            0            0            40  United-States  <=50K.  \n",
       "3            0            0            40  United-States  <=50K.  \n",
       "4            0            0            40           Cuba  <=50K.  "
      ]
     },
     "execution_count": 2,
     "metadata": {},
     "output_type": "execute_result"
    }
   ],
   "source": [
    "df = pd.read_csv(\"Adult.csv\")\n",
    "df=df.rename(columns={'education-num':'educationnum','marital-status':'maritalstatus','capital-gain':'capitalgain','capital-loss':'capitalloss','hours-per-week':'hoursperweek','native-country':'nativecountry'})\n",
    "df.head()"
   ]
  },
  {
   "cell_type": "code",
   "execution_count": 3,
   "id": "d1cf38b7",
   "metadata": {},
   "outputs": [
    {
     "data": {
      "text/plain": [
       "United-States                 22421\n",
       "Mexico                          488\n",
       "?                               445\n",
       "Philippines                     151\n",
       "Germany                         102\n",
       "Canada                           99\n",
       "Puerto-Rico                      96\n",
       "El-Salvador                      72\n",
       "Cuba                             72\n",
       "England                          72\n",
       "India                            67\n",
       "South                            64\n",
       "China                            60\n",
       "Jamaica                          58\n",
       "Italy                            55\n",
       "Dominican-Republic               54\n",
       "Vietnam                          50\n",
       "Guatemala                        50\n",
       "Poland                           49\n",
       "Japan                            48\n",
       "Columbia                         45\n",
       "Taiwan                           42\n",
       "Haiti                            38\n",
       "Iran                             35\n",
       "Portugal                         28\n",
       "Nicaragua                        25\n",
       "Peru                             23\n",
       "Greece                           23\n",
       "France                           21\n",
       "Ireland                          19\n",
       "Ecuador                          19\n",
       "Cambodia                         16\n",
       "Thailand                         15\n",
       "Trinadad&Tobago                  12\n",
       "Hong                             11\n",
       "Yugoslavia                       11\n",
       "Hungary                          10\n",
       "Scotland                          9\n",
       "Laos                              8\n",
       "Outlying-US(Guam-USVI-etc)        8\n",
       "Honduras                          8\n",
       "Holand-Netherlands                1\n",
       "Name: nativecountry, dtype: int64"
      ]
     },
     "execution_count": 3,
     "metadata": {},
     "output_type": "execute_result"
    }
   ],
   "source": [
    "df[\"nativecountry\"].value_counts()"
   ]
  },
  {
   "cell_type": "markdown",
   "id": "6cec6524",
   "metadata": {},
   "source": [
    "<h3>One data value for the native country is missing.<h3/>"
   ]
  },
  {
   "cell_type": "code",
   "execution_count": 4,
   "id": "320a4211",
   "metadata": {},
   "outputs": [
    {
     "data": {
      "text/plain": [
       "United-States                 22421\n",
       "Mexico                          488\n",
       "Philippines                     151\n",
       "Germany                         102\n",
       "Canada                           99\n",
       "Puerto-Rico                      96\n",
       "Cuba                             72\n",
       "El-Salvador                      72\n",
       "England                          72\n",
       "India                            67\n",
       "South                            64\n",
       "China                            60\n",
       "Jamaica                          58\n",
       "Italy                            55\n",
       "Dominican-Republic               54\n",
       "Vietnam                          50\n",
       "Guatemala                        50\n",
       "Poland                           49\n",
       "Japan                            48\n",
       "Columbia                         45\n",
       "Taiwan                           42\n",
       "Haiti                            38\n",
       "Iran                             35\n",
       "Portugal                         28\n",
       "Nicaragua                        25\n",
       "Peru                             23\n",
       "Greece                           23\n",
       "France                           21\n",
       "Ireland                          19\n",
       "Ecuador                          19\n",
       "Cambodia                         16\n",
       "Thailand                         15\n",
       "Trinadad&Tobago                  12\n",
       "Hong                             11\n",
       "Yugoslavia                       11\n",
       "Hungary                          10\n",
       "Scotland                          9\n",
       "Laos                              8\n",
       "Outlying-US(Guam-USVI-etc)        8\n",
       "Honduras                          8\n",
       "Holand-Netherlands                1\n",
       "Name: nativecountry, dtype: int64"
      ]
     },
     "execution_count": 4,
     "metadata": {},
     "output_type": "execute_result"
    }
   ],
   "source": [
    "indexNames = df[df['nativecountry'] == '?' ].index\n",
    "df.drop(indexNames , inplace=True)\n",
    "df['nativecountry'].value_counts()"
   ]
  },
  {
   "cell_type": "markdown",
   "id": "ffcd2856",
   "metadata": {},
   "source": [
    "<h3> The potential downside of eliminating the rows with missing value is that, when we remove the rows with missing values the other data values in those rows may be also destroyed when the rows are eliminated and when the data becomes obtainable, it'll be very diffucult to make chances because we won't have any chance or space to enter the recently available data. </h3>`"
   ]
  },
  {
   "cell_type": "code",
   "execution_count": 5,
   "id": "28f222a0",
   "metadata": {},
   "outputs": [
    {
     "data": {
      "text/plain": [
       "27       False\n",
       "69       False\n",
       "77       False\n",
       "106      False\n",
       "128      False\n",
       "         ...  \n",
       "24894    False\n",
       "24902    False\n",
       "24913    False\n",
       "24949    False\n",
       "24998    False\n",
       "Name: workclass, Length: 1379, dtype: bool"
      ]
     },
     "execution_count": 5,
     "metadata": {},
     "output_type": "execute_result"
    }
   ],
   "source": [
    "(df.loc[df.workclass == \"?\", \"workclass\"] == \"Unknown\")"
   ]
  },
  {
   "cell_type": "markdown",
   "id": "e5441c7b",
   "metadata": {},
   "source": [
    "<h3>In my point of view there isn't any potential downside of creating a specific category and showing the missing values replaced with \"unknown.\" It will really make the data seem more obvious and will explain why a certain data characteristic is lacking value. However, it would be confusing and improper to depict it visually or to analyze the data and make decisions based on it.   </h3>"
   ]
  },
  {
   "cell_type": "code",
   "execution_count": 6,
   "id": "97098cd2",
   "metadata": {},
   "outputs": [
    {
     "data": {
      "text/plain": [
       "Prof-specialty       3100\n",
       "Craft-repair         3067\n",
       "Exec-managerial      3030\n",
       "Adm-clerical         2938\n",
       "Sales                2763\n",
       "Other-service        2496\n",
       "Machine-op-inspct    1504\n",
       "?                    1384\n",
       "Transport-moving     1210\n",
       "Handlers-cleaners     990\n",
       "Farming-fishing       763\n",
       "Tech-support          689\n",
       "Protective-serv       498\n",
       "Priv-house-serv       116\n",
       "Armed-Forces            7\n",
       "Name: occupation, dtype: int64"
      ]
     },
     "execution_count": 6,
     "metadata": {},
     "output_type": "execute_result"
    }
   ],
   "source": [
    "df[\"occupation\"].value_counts()"
   ]
  },
  {
   "cell_type": "markdown",
   "id": "53c6213c",
   "metadata": {},
   "source": [
    "<h3> As a result, there is one missing value for occupation. <h3/>"
   ]
  },
  {
   "cell_type": "code",
   "execution_count": 7,
   "id": "a1e91d1f",
   "metadata": {},
   "outputs": [],
   "source": [
    "indexNames = df[ df['occupation'] == '?' ].index\n",
    "df.drop(indexNames , inplace=True)"
   ]
  },
  {
   "cell_type": "markdown",
   "id": "b65ae576",
   "metadata": {},
   "source": [
    "<h3> Attribute occupation's data has one missing value which can be fixed by deleteting the missing value. <h3/>"
   ]
  },
  {
   "cell_type": "code",
   "execution_count": 8,
   "id": "d2be4142",
   "metadata": {},
   "outputs": [
    {
     "data": {
      "text/plain": [
       "Prof-specialty       3100\n",
       "Craft-repair         3067\n",
       "Exec-managerial      3030\n",
       "Adm-clerical         2938\n",
       "Sales                2763\n",
       "Other-service        2496\n",
       "Machine-op-inspct    1504\n",
       "Transport-moving     1210\n",
       "Handlers-cleaners     990\n",
       "Farming-fishing       763\n",
       "Tech-support          689\n",
       "Protective-serv       498\n",
       "Priv-house-serv       116\n",
       "Armed-Forces            7\n",
       "Name: occupation, dtype: int64"
      ]
     },
     "execution_count": 8,
     "metadata": {},
     "output_type": "execute_result"
    }
   ],
   "source": [
    "df[\"occupation\"].value_counts()"
   ]
  },
  {
   "cell_type": "markdown",
   "id": "aaa89f9b",
   "metadata": {},
   "source": [
    "<h3> In the previous step, I removed the missing value and the other rows in occupation data set that were linked with it. I did that since I didn't want to make any mistakes or have any problems when visually portraying it. The best course of action for solving this issue and fixing the data set seems to be eliminating the whole section <h3/>  "
   ]
  },
  {
   "cell_type": "code",
   "execution_count": 9,
   "id": "98a87019",
   "metadata": {},
   "outputs": [
    {
     "data": {
      "text/html": [
       "<div>\n",
       "<style scoped>\n",
       "    .dataframe tbody tr th:only-of-type {\n",
       "        vertical-align: middle;\n",
       "    }\n",
       "\n",
       "    .dataframe tbody tr th {\n",
       "        vertical-align: top;\n",
       "    }\n",
       "\n",
       "    .dataframe thead th {\n",
       "        text-align: right;\n",
       "    }\n",
       "</style>\n",
       "<table border=\"1\" class=\"dataframe\">\n",
       "  <thead>\n",
       "    <tr style=\"text-align: right;\">\n",
       "      <th></th>\n",
       "      <th>educationnum</th>\n",
       "      <th>race</th>\n",
       "    </tr>\n",
       "  </thead>\n",
       "  <tbody>\n",
       "    <tr>\n",
       "      <th>0</th>\n",
       "      <td>13</td>\n",
       "      <td>White</td>\n",
       "    </tr>\n",
       "    <tr>\n",
       "      <th>1</th>\n",
       "      <td>13</td>\n",
       "      <td>White</td>\n",
       "    </tr>\n",
       "    <tr>\n",
       "      <th>2</th>\n",
       "      <td>9</td>\n",
       "      <td>White</td>\n",
       "    </tr>\n",
       "    <tr>\n",
       "      <th>3</th>\n",
       "      <td>7</td>\n",
       "      <td>Black</td>\n",
       "    </tr>\n",
       "    <tr>\n",
       "      <th>4</th>\n",
       "      <td>13</td>\n",
       "      <td>Black</td>\n",
       "    </tr>\n",
       "    <tr>\n",
       "      <th>...</th>\n",
       "      <td>...</td>\n",
       "      <td>...</td>\n",
       "    </tr>\n",
       "    <tr>\n",
       "      <th>24994</th>\n",
       "      <td>9</td>\n",
       "      <td>White</td>\n",
       "    </tr>\n",
       "    <tr>\n",
       "      <th>24995</th>\n",
       "      <td>6</td>\n",
       "      <td>White</td>\n",
       "    </tr>\n",
       "    <tr>\n",
       "      <th>24996</th>\n",
       "      <td>9</td>\n",
       "      <td>White</td>\n",
       "    </tr>\n",
       "    <tr>\n",
       "      <th>24997</th>\n",
       "      <td>9</td>\n",
       "      <td>White</td>\n",
       "    </tr>\n",
       "    <tr>\n",
       "      <th>24999</th>\n",
       "      <td>13</td>\n",
       "      <td>White</td>\n",
       "    </tr>\n",
       "  </tbody>\n",
       "</table>\n",
       "<p>23171 rows × 2 columns</p>\n",
       "</div>"
      ],
      "text/plain": [
       "       educationnum   race\n",
       "0                13  White\n",
       "1                13  White\n",
       "2                 9  White\n",
       "3                 7  Black\n",
       "4                13  Black\n",
       "...             ...    ...\n",
       "24994             9  White\n",
       "24995             6  White\n",
       "24996             9  White\n",
       "24997             9  White\n",
       "24999            13  White\n",
       "\n",
       "[23171 rows x 2 columns]"
      ]
     },
     "execution_count": 9,
     "metadata": {},
     "output_type": "execute_result"
    }
   ],
   "source": [
    "race_educ = df[['educationnum','race']]\n",
    "race_educ"
   ]
  },
  {
   "cell_type": "code",
   "execution_count": 10,
   "id": "9d6eedcb",
   "metadata": {},
   "outputs": [],
   "source": [
    "race_educ_mean =race_educ.groupby(['race'])['educationnum'].mean()"
   ]
  },
  {
   "cell_type": "code",
   "execution_count": 11,
   "id": "08cac218",
   "metadata": {},
   "outputs": [
    {
     "data": {
      "text/plain": [
       "<bound method NDFrame.head of race\n",
       "Amer-Indian-Eskimo     9.354545\n",
       "Asian-Pac-Islander    11.034586\n",
       "Black                  9.544486\n",
       "Other                  8.642857\n",
       "White                 10.175273\n",
       "Name: educationnum, dtype: float64>"
      ]
     },
     "execution_count": 11,
     "metadata": {},
     "output_type": "execute_result"
    }
   ],
   "source": [
    "race_educ_mean.head"
   ]
  },
  {
   "cell_type": "code",
   "execution_count": 12,
   "id": "bf49f3b7",
   "metadata": {},
   "outputs": [
    {
     "data": {
      "text/plain": [
       "Text(0.5, 1.0, 'Average Education Level by Race')"
      ]
     },
     "execution_count": 12,
     "metadata": {},
     "output_type": "execute_result"
    },
    {
     "data": {
      "image/png": "[encoded data removed]",
      "text/plain": [
       "<Figure size 432x288 with 1 Axes>"
      ]
     },
     "metadata": {
      "needs_background": "light"
     },
     "output_type": "display_data"
    }
   ],
   "source": [
    "import matplotlib.pyplot as plot\n",
    "ax = race_educ_mean.plot.bar(x=\"race\", y=\"educationnum\", rot=0)\n",
    "ax.set_ylabel('Average Education Level')\n",
    "ax.set_xlabel('Race Categories')\n",
    "ax.set_title('Average Education Level by Race')"
   ]
  },
  {
   "cell_type": "code",
   "execution_count": 13,
   "id": "030e5d1e",
   "metadata": {},
   "outputs": [
    {
     "data": {
      "text/html": [
       "<div>\n",
       "<style scoped>\n",
       "    .dataframe tbody tr th:only-of-type {\n",
       "        vertical-align: middle;\n",
       "    }\n",
       "\n",
       "    .dataframe tbody tr th {\n",
       "        vertical-align: top;\n",
       "    }\n",
       "\n",
       "    .dataframe thead th {\n",
       "        text-align: right;\n",
       "    }\n",
       "</style>\n",
       "<table border=\"1\" class=\"dataframe\">\n",
       "  <thead>\n",
       "    <tr style=\"text-align: right;\">\n",
       "      <th></th>\n",
       "      <th>hoursperweek</th>\n",
       "      <th>sex</th>\n",
       "    </tr>\n",
       "  </thead>\n",
       "  <tbody>\n",
       "    <tr>\n",
       "      <th>0</th>\n",
       "      <td>40</td>\n",
       "      <td>Male</td>\n",
       "    </tr>\n",
       "    <tr>\n",
       "      <th>1</th>\n",
       "      <td>13</td>\n",
       "      <td>Male</td>\n",
       "    </tr>\n",
       "    <tr>\n",
       "      <th>2</th>\n",
       "      <td>40</td>\n",
       "      <td>Male</td>\n",
       "    </tr>\n",
       "    <tr>\n",
       "      <th>3</th>\n",
       "      <td>40</td>\n",
       "      <td>Male</td>\n",
       "    </tr>\n",
       "    <tr>\n",
       "      <th>4</th>\n",
       "      <td>40</td>\n",
       "      <td>Female</td>\n",
       "    </tr>\n",
       "    <tr>\n",
       "      <th>...</th>\n",
       "      <td>...</td>\n",
       "      <td>...</td>\n",
       "    </tr>\n",
       "    <tr>\n",
       "      <th>24994</th>\n",
       "      <td>40</td>\n",
       "      <td>Male</td>\n",
       "    </tr>\n",
       "    <tr>\n",
       "      <th>24995</th>\n",
       "      <td>60</td>\n",
       "      <td>Male</td>\n",
       "    </tr>\n",
       "    <tr>\n",
       "      <th>24996</th>\n",
       "      <td>40</td>\n",
       "      <td>Male</td>\n",
       "    </tr>\n",
       "    <tr>\n",
       "      <th>24997</th>\n",
       "      <td>42</td>\n",
       "      <td>Female</td>\n",
       "    </tr>\n",
       "    <tr>\n",
       "      <th>24999</th>\n",
       "      <td>32</td>\n",
       "      <td>Female</td>\n",
       "    </tr>\n",
       "  </tbody>\n",
       "</table>\n",
       "<p>23171 rows × 2 columns</p>\n",
       "</div>"
      ],
      "text/plain": [
       "       hoursperweek     sex\n",
       "0                40    Male\n",
       "1                13    Male\n",
       "2                40    Male\n",
       "3                40    Male\n",
       "4                40  Female\n",
       "...             ...     ...\n",
       "24994            40    Male\n",
       "24995            60    Male\n",
       "24996            40    Male\n",
       "24997            42  Female\n",
       "24999            32  Female\n",
       "\n",
       "[23171 rows x 2 columns]"
      ]
     },
     "execution_count": 13,
     "metadata": {},
     "output_type": "execute_result"
    }
   ],
   "source": [
    "hours_sex = df[['hoursperweek','sex']]\n",
    "hours_sex"
   ]
  },
  {
   "cell_type": "code",
   "execution_count": 14,
   "id": "dfca950d",
   "metadata": {},
   "outputs": [],
   "source": [
    "hours_sex_mean =hours_sex.groupby(['sex'])['hoursperweek'].mean()"
   ]
  },
  {
   "cell_type": "code",
   "execution_count": 15,
   "id": "e7f8d4b5",
   "metadata": {},
   "outputs": [
    {
     "data": {
      "text/plain": [
       "Text(0.5, 1.0, 'Average Hour Worked Per Week By Sex')"
      ]
     },
     "execution_count": 15,
     "metadata": {},
     "output_type": "execute_result"
    },
    {
     "data": {
      "image/png": "[encoded data removed]",
      "text/plain": [
       "<Figure size 432x288 with 1 Axes>"
      ]
     },
     "metadata": {
      "needs_background": "light"
     },
     "output_type": "display_data"
    }
   ],
   "source": [
    "import matplotlib.pyplot as plot\n",
    "\n",
    "bx = hours_sex_mean.plot.bar(x=\"sex\", y=\"hours\", rot=0)\n",
    "bx.set_ylabel('Average Working Hour')\n",
    "bx.set_xlabel('Sex')\n",
    "bx.set_title('Average Hour Worked Per Week By Sex')"
   ]
  },
  {
   "cell_type": "code",
   "execution_count": 16,
   "id": "ea0b18f5",
   "metadata": {},
   "outputs": [
    {
     "data": {
      "text/plain": [
       "Text(0.5, 1.0, 'Age distribution')"
      ]
     },
     "execution_count": 16,
     "metadata": {},
     "output_type": "execute_result"
    },
    {
     "data": {
      "image/png": "[encoded data removed]",
      "text/plain": [
       "<Figure size 432x288 with 1 Axes>"
      ]
     },
     "metadata": {
      "needs_background": "light"
     },
     "output_type": "display_data"
    }
   ],
   "source": [
    "import matplotlib.pyplot as plot\n",
    "age = df[['age']]\n",
    "ax = age.plot.hist(bins = 10)\n",
    "ax.set_ylabel('Age')\n",
    "ax.set_xlabel('Frequency')\n",
    "ax.set_title('Age distribution')"
   ]
  }
 ],
 "metadata": {
  "kernelspec": {
   "display_name": "Python 3",
   "language": "python",
   "name": "python3"
  },
  "language_info": {
   "codemirror_mode": {
    "name": "ipython",
    "version": 3
   },
   "file_extension": ".py",
   "mimetype": "text/x-python",
   "name": "python",
   "nbconvert_exporter": "python",
   "pygments_lexer": "ipython3",
   "version": "3.8.8"
  }
 },
 "nbformat": 4,
 "nbformat_minor": 5
}
